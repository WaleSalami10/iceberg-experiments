{
 "cells": [
  {
   "cell_type": "code",
   "execution_count": 1,
   "id": "f60f49be",
   "metadata": {},
   "outputs": [
    {
     "data": {
      "application/vnd.jupyter.widget-view+json": {
       "model_id": "0111627db9ea4c63b098521671516006",
       "version_major": 2,
       "version_minor": 0
      },
      "text/plain": [
       "VBox()"
      ]
     },
     "metadata": {},
     "output_type": "display_data"
    },
    {
     "name": "stdout",
     "output_type": "stream",
     "text": [
      "Starting Spark application\n"
     ]
    },
    {
     "data": {
      "text/html": [
       "<table>\n",
       "<tr><th>ID</th><th>YARN Application ID</th><th>Kind</th><th>State</th><th>Spark UI</th><th>Driver log</th><th>Current session?</th></tr><tr><td>7</td><td>application_1635758941805_0018</td><td>spark</td><td>idle</td><td><a target=\"_blank\" href=\"http://ip-172-31-34-3.ec2.internal:20888/proxy/application_1635758941805_0018/\" >Link</a></td><td><a target=\"_blank\" href=\"http://ip-172-31-38-210.ec2.internal:8042/node/containerlogs/container_1635758941805_0018_01_000001/livy\" >Link</a></td><td>✔</td></tr></table>"
      ],
      "text/plain": [
       "<IPython.core.display.HTML object>"
      ]
     },
     "metadata": {},
     "output_type": "display_data"
    },
    {
     "data": {
      "application/vnd.jupyter.widget-view+json": {
       "model_id": "",
       "version_major": 2,
       "version_minor": 0
      },
      "text/plain": [
       "FloatProgress(value=0.0, bar_style='info', description='Progress:', layout=Layout(height='25px', width='50%'),…"
      ]
     },
     "metadata": {},
     "output_type": "display_data"
    },
    {
     "name": "stdout",
     "output_type": "stream",
     "text": [
      "SparkSession available as 'spark'.\n"
     ]
    },
    {
     "data": {
      "application/vnd.jupyter.widget-view+json": {
       "model_id": "",
       "version_major": 2,
       "version_minor": 0
      },
      "text/plain": [
       "FloatProgress(value=0.0, bar_style='info', description='Progress:', layout=Layout(height='25px', width='50%'),…"
      ]
     },
     "metadata": {},
     "output_type": "display_data"
    },
    {
     "name": "stdout",
     "output_type": "stream",
     "text": [
      "res1: String = 3.0.1-amzn-0\n"
     ]
    }
   ],
   "source": [
    "spark.version"
   ]
  },
  {
   "cell_type": "code",
   "execution_count": 2,
   "id": "d460c836",
   "metadata": {},
   "outputs": [
    {
     "data": {
      "application/vnd.jupyter.widget-view+json": {
       "model_id": "c275eb47528948b8a0b94903b8939573",
       "version_major": 2,
       "version_minor": 0
      },
      "text/plain": [
       "VBox()"
      ]
     },
     "metadata": {},
     "output_type": "display_data"
    },
    {
     "data": {
      "application/vnd.jupyter.widget-view+json": {
       "model_id": "",
       "version_major": 2,
       "version_minor": 0
      },
      "text/plain": [
       "FloatProgress(value=0.0, bar_style='info', description='Progress:', layout=Layout(height='25px', width='50%'),…"
      ]
     },
     "metadata": {},
     "output_type": "display_data"
    },
    {
     "name": "stdout",
     "output_type": "stream",
     "text": [
      "input_df: org.apache.spark.sql.DataFrame = [id: bigint, month: bigint ... 5 more fields]\n",
      "res2: Long = 2700000000\n"
     ]
    }
   ],
   "source": [
    "val input_df = spark.read.parquet(\"s3://vasveena-test-demo/tmp/hudi-perf/input/\")\n",
    "input_df.count()"
   ]
  },
  {
   "cell_type": "code",
   "execution_count": 3,
   "id": "00ed2a4c",
   "metadata": {},
   "outputs": [
    {
     "data": {
      "application/vnd.jupyter.widget-view+json": {
       "model_id": "5d617e3a9478400c87edc71d2d616221",
       "version_major": 2,
       "version_minor": 0
      },
      "text/plain": [
       "VBox()"
      ]
     },
     "metadata": {},
     "output_type": "display_data"
    },
    {
     "data": {
      "application/vnd.jupyter.widget-view+json": {
       "model_id": "",
       "version_major": 2,
       "version_minor": 0
      },
      "text/plain": [
       "FloatProgress(value=0.0, bar_style='info', description='Progress:', layout=Layout(height='25px', width='50%'),…"
      ]
     },
     "metadata": {},
     "output_type": "display_data"
    }
   ],
   "source": [
    "input_df.createOrReplaceTempView(\"inputdf\")"
   ]
  },
  {
   "cell_type": "code",
   "execution_count": 4,
   "id": "99d8d1d8",
   "metadata": {},
   "outputs": [
    {
     "data": {
      "application/vnd.jupyter.widget-view+json": {
       "model_id": "844fe8154e5d49e1b43e6e2c1987b4ac",
       "version_major": 2,
       "version_minor": 0
      },
      "text/plain": [
       "VBox()"
      ]
     },
     "metadata": {},
     "output_type": "display_data"
    },
    {
     "data": {
      "application/vnd.jupyter.widget-view+json": {
       "model_id": "",
       "version_major": 2,
       "version_minor": 0
      },
      "text/plain": [
       "FloatProgress(value=0.0, bar_style='info', description='Progress:', layout=Layout(height='25px', width='50%'),…"
      ]
     },
     "metadata": {},
     "output_type": "display_data"
    },
    {
     "name": "stdout",
     "output_type": "stream",
     "text": [
      "import org.apache.spark.sql.functions._\n",
      "input_df2: org.apache.spark.sql.DataFrame = [id: bigint, month: bigint ... 9 more fields]\n",
      "+-------+-----+-------+---+--------------------+----+-------------------+---+--------+------+----------+\n",
      "|     id|month|     sk|txt|                uuid|year| modified_timestamp|  z|schema-v|data-v|  trade_dt|\n",
      "+-------+-----+-------+---+--------------------+----+-------------------+---+--------+------+----------+\n",
      "|4000000|    3|4000000|[E]|6e505939-f5fd-4ab...|2019|2021-04-02 00:05:02|  9|      v1|    v2|2021-04-02|\n",
      "|4000001|    9|4000001|[F]|20486aca-2759-43f...|2019|2021-04-02 00:05:02|  d|      v1|    v2|2021-04-02|\n",
      "|4000002|   11|4000002|[G]|42962a21-a2dc-40d...|2019|2021-04-02 00:05:02|  d|      v1|    v2|2021-04-02|\n",
      "|4000003|    9|4000003|[H]|9841ad6d-1532-496...|2019|2021-04-02 00:05:02|  c|      v1|    v2|2021-04-02|\n",
      "|4000004|    4|4000004|[I]|ff1a855a-cced-495...|2019|2021-04-02 00:05:02|  4|      v1|    v2|2021-04-02|\n",
      "+-------+-----+-------+---+--------------------+----+-------------------+---+--------+------+----------+\n",
      "only showing top 5 rows\n",
      "\n"
     ]
    }
   ],
   "source": [
    "import org.apache.spark.sql.functions._\n",
    "\n",
    "val input_df2=(input_df.withColumn(\"z\", substring(md5(concat($\"id\")),1,1))\n",
    "                       .withColumn(\"schema-v\", lit(\"v1\")).withColumn(\"data-v\", lit(\"v2\"))\n",
    "                       .withColumn(\"trade_dt\", substring($\"modified_timestamp\",1,10)))\n",
    "input_df2.show(5)"
   ]
  },
  {
   "cell_type": "code",
   "execution_count": 5,
   "id": "e2de84c8",
   "metadata": {},
   "outputs": [
    {
     "data": {
      "application/vnd.jupyter.widget-view+json": {
       "model_id": "6f395da94f2d434486d068fbca582532",
       "version_major": 2,
       "version_minor": 0
      },
      "text/plain": [
       "VBox()"
      ]
     },
     "metadata": {},
     "output_type": "display_data"
    },
    {
     "data": {
      "application/vnd.jupyter.widget-view+json": {
       "model_id": "",
       "version_major": 2,
       "version_minor": 0
      },
      "text/plain": [
       "FloatProgress(value=0.0, bar_style='info', description='Progress:', layout=Layout(height='25px', width='50%'),…"
      ]
     },
     "metadata": {},
     "output_type": "display_data"
    },
    {
     "name": "stdout",
     "output_type": "stream",
     "text": [
      "input_df4: org.apache.spark.sql.DataFrame = [id: bigint, month: bigint ... 9 more fields]\n"
     ]
    }
   ],
   "source": [
    "val input_df4 = input_df2.withColumnRenamed(\"schema-v\", \"schema_v\").withColumnRenamed(\"data-v\", \"data_v\")"
   ]
  },
  {
   "cell_type": "code",
   "execution_count": 6,
   "id": "eb02a85b",
   "metadata": {},
   "outputs": [
    {
     "data": {
      "application/vnd.jupyter.widget-view+json": {
       "model_id": "d2448984bf304adc98821d5ea9545185",
       "version_major": 2,
       "version_minor": 0
      },
      "text/plain": [
       "VBox()"
      ]
     },
     "metadata": {},
     "output_type": "display_data"
    },
    {
     "data": {
      "application/vnd.jupyter.widget-view+json": {
       "model_id": "",
       "version_major": 2,
       "version_minor": 0
      },
      "text/plain": [
       "FloatProgress(value=0.0, bar_style='info', description='Progress:', layout=Layout(height='25px', width='50%'),…"
      ]
     },
     "metadata": {},
     "output_type": "display_data"
    },
    {
     "name": "stdout",
     "output_type": "stream",
     "text": [
      "root\n",
      " |-- id: long (nullable = true)\n",
      " |-- month: long (nullable = true)\n",
      " |-- sk: long (nullable = true)\n",
      " |-- txt: struct (nullable = true)\n",
      " |    |-- key1: string (nullable = true)\n",
      " |-- uuid: string (nullable = true)\n",
      " |-- year: string (nullable = true)\n",
      " |-- modified_timestamp: timestamp (nullable = true)\n",
      " |-- z: string (nullable = true)\n",
      " |-- schema_v: string (nullable = false)\n",
      " |-- data_v: string (nullable = false)\n",
      " |-- trade_dt: string (nullable = true)\n",
      "\n"
     ]
    }
   ],
   "source": [
    "input_df4.printSchema"
   ]
  },
  {
   "cell_type": "code",
   "execution_count": null,
   "id": "fb332a6c",
   "metadata": {},
   "outputs": [],
   "source": [
    "spark.sql(\"drop table df_sparksql26\")\n",
    "spark.sql(\"drop table df_sparksql28\")"
   ]
  },
  {
   "cell_type": "code",
   "execution_count": 11,
   "id": "04e23447",
   "metadata": {},
   "outputs": [
    {
     "data": {
      "application/vnd.jupyter.widget-view+json": {
       "model_id": "aa2af909da7f456cb314c3b23b8cc6eb",
       "version_major": 2,
       "version_minor": 0
      },
      "text/plain": [
       "VBox()"
      ]
     },
     "metadata": {},
     "output_type": "display_data"
    },
    {
     "data": {
      "application/vnd.jupyter.widget-view+json": {
       "model_id": "",
       "version_major": 2,
       "version_minor": 0
      },
      "text/plain": [
       "FloatProgress(value=0.0, bar_style='info', description='Progress:', layout=Layout(height='25px', width='50%'),…"
      ]
     },
     "metadata": {},
     "output_type": "display_data"
    },
    {
     "name": "stdout",
     "output_type": "stream",
     "text": [
      "res10: org.apache.spark.sql.DataFrame = []\n"
     ]
    }
   ],
   "source": [
    "spark.sql(\"\"\"CREATE TABLE df_sparksql26 (id bigint,\n",
    "                                       -- month bigint,\n",
    "                                       sk bigint,\n",
    "                                       txt struct<key1:string>,\n",
    "                                       uuid string,\n",
    "                                       year string,\n",
    "                                       modified_timestamp timestamp)\n",
    "PARTITIONED BY (z string,schema_v string,data_v string,trade_dt string)\n",
    "STORED AS PARQUET\n",
    "location  's3://vasveena-test-demo/iceberg/catalog/tables/db/df_sparksql26'\"\"\")"
   ]
  },
  {
   "cell_type": "code",
   "execution_count": 12,
   "id": "1e35e106",
   "metadata": {},
   "outputs": [
    {
     "data": {
      "application/vnd.jupyter.widget-view+json": {
       "model_id": "58a0e4a42a554d1ebf9dcd4534e21dfb",
       "version_major": 2,
       "version_minor": 0
      },
      "text/plain": [
       "VBox()"
      ]
     },
     "metadata": {},
     "output_type": "display_data"
    },
    {
     "data": {
      "application/vnd.jupyter.widget-view+json": {
       "model_id": "",
       "version_major": 2,
       "version_minor": 0
      },
      "text/plain": [
       "FloatProgress(value=0.0, bar_style='info', description='Progress:', layout=Layout(height='25px', width='50%'),…"
      ]
     },
     "metadata": {},
     "output_type": "display_data"
    },
    {
     "name": "stdout",
     "output_type": "stream",
     "text": [
      "res11: org.apache.spark.sql.DataFrame = []\n"
     ]
    }
   ],
   "source": [
    "spark.sql(\"\"\"CREATE TABLE df_sparksql28 (id bigint,\n",
    "                                       -- month bigint,\n",
    "                                       sk bigint,\n",
    "                                       txt struct<key1:string>,\n",
    "                                       uuid string,\n",
    "                                       year string,\n",
    "                                       modified_timestamp timestamp)\n",
    "PARTITIONED BY (z string,schema_v string,data_v string,trade_dt string)\n",
    "STORED AS PARQUET\n",
    "location  's3://vasveena-test-demo/iceberg/catalog/tables/db/df_sparksql28'\"\"\")"
   ]
  },
  {
   "cell_type": "code",
   "execution_count": 9,
   "id": "a0605b7b",
   "metadata": {},
   "outputs": [
    {
     "data": {
      "application/vnd.jupyter.widget-view+json": {
       "model_id": "0471bbac886f4edcabe66ee7c7f1c7d9",
       "version_major": 2,
       "version_minor": 0
      },
      "text/plain": [
       "VBox()"
      ]
     },
     "metadata": {},
     "output_type": "display_data"
    },
    {
     "data": {
      "application/vnd.jupyter.widget-view+json": {
       "model_id": "",
       "version_major": 2,
       "version_minor": 0
      },
      "text/plain": [
       "FloatProgress(value=0.0, bar_style='info', description='Progress:', layout=Layout(height='25px', width='50%'),…"
      ]
     },
     "metadata": {},
     "output_type": "display_data"
    },
    {
     "name": "stdout",
     "output_type": "stream",
     "text": [
      "res8: org.apache.spark.sql.DataFrame = [key: string, value: string]\n",
      "t1: Long = 214514296149693\n",
      "duration: String = 727.337321312seconds\n"
     ]
    }
   ],
   "source": [
    "spark.sql(\"set hive.exec.dynamic.partition.mode=nonstrict\")\n",
    "val t1 = System.nanoTime\n",
    "input_df4.repartition(col(\"modified_timestamp\"),col(\"month\")).drop(col(\"month\")).sortWithinPartitions(\"z\",\"schema_v\",\"data_v\",\"trade_dt\").write.mode(\"overwrite\").insertInto(\"df_sparksql26\")\n",
    "val duration = (System.nanoTime - t1) / 1e9d + \"seconds\""
   ]
  },
  {
   "cell_type": "code",
   "execution_count": 10,
   "id": "101ed03c",
   "metadata": {},
   "outputs": [
    {
     "data": {
      "application/vnd.jupyter.widget-view+json": {
       "model_id": "4fe10eca0fcd43088c34867059fedea5",
       "version_major": 2,
       "version_minor": 0
      },
      "text/plain": [
       "VBox()"
      ]
     },
     "metadata": {},
     "output_type": "display_data"
    },
    {
     "data": {
      "application/vnd.jupyter.widget-view+json": {
       "model_id": "",
       "version_major": 2,
       "version_minor": 0
      },
      "text/plain": [
       "FloatProgress(value=0.0, bar_style='info', description='Progress:', layout=Layout(height='25px', width='50%'),…"
      ]
     },
     "metadata": {},
     "output_type": "display_data"
    },
    {
     "name": "stdout",
     "output_type": "stream",
     "text": [
      "t1: Long = 215243749189459\n",
      "duration: String = 440.433459461seconds\n"
     ]
    }
   ],
   "source": [
    "val t1 = System.nanoTime\n",
    "input_df4.drop(col(\"month\")).sortWithinPartitions(\"z\",\"schema_v\",\"data_v\",\"trade_dt\").write.mode(\"overwrite\").insertInto(\"df_sparksql28\")\n",
    "val duration = (System.nanoTime - t1) / 1e9d + \"seconds\""
   ]
  },
  {
   "cell_type": "code",
   "execution_count": 11,
   "id": "d0b5e6fb",
   "metadata": {},
   "outputs": [
    {
     "data": {
      "application/vnd.jupyter.widget-view+json": {
       "model_id": "0fbe008dd5e44a4fb63ef9a1e24218a6",
       "version_major": 2,
       "version_minor": 0
      },
      "text/plain": [
       "VBox()"
      ]
     },
     "metadata": {},
     "output_type": "display_data"
    },
    {
     "name": "stderr",
     "output_type": "stream",
     "text": [
      "An error was encountered:\n",
      "Invalid status code '404' from http://localhost:8998/sessions/3 with error payload: {\"msg\":\"Session '3' not found.\"}\n"
     ]
    }
   ],
   "source": [
    "spark.sql(\"select count(*) from df_sparksql26\").show()"
   ]
  },
  {
   "cell_type": "code",
   "execution_count": 7,
   "id": "25063287",
   "metadata": {},
   "outputs": [
    {
     "data": {
      "application/vnd.jupyter.widget-view+json": {
       "model_id": "5569f21c81354af9aa52b2574ae568b6",
       "version_major": 2,
       "version_minor": 0
      },
      "text/plain": [
       "VBox()"
      ]
     },
     "metadata": {},
     "output_type": "display_data"
    },
    {
     "data": {
      "application/vnd.jupyter.widget-view+json": {
       "model_id": "",
       "version_major": 2,
       "version_minor": 0
      },
      "text/plain": [
       "FloatProgress(value=0.0, bar_style='info', description='Progress:', layout=Layout(height='25px', width='50%'),…"
      ]
     },
     "metadata": {},
     "output_type": "display_data"
    },
    {
     "name": "stdout",
     "output_type": "stream",
     "text": [
      "res7: org.apache.spark.sql.DataFrame = []\n"
     ]
    }
   ],
   "source": [
    "spark.sql(\"\"\"CREATE TABLE df_sparksql22 (id bigint,\n",
    "                                       -- month bigint,\n",
    "                                       sk bigint,\n",
    "                                       txt struct<key1:string>,\n",
    "                                       uuid string,\n",
    "                                       year string,\n",
    "                                       modified_timestamp timestamp)\n",
    "PARTITIONED BY (z string,schema_v string,data_v string,trade_dt string)\n",
    "STORED AS PARQUET\n",
    "location  's3://vasveena-test-demo/iceberg/catalog/tables/db/df_sparksql22'\"\"\")"
   ]
  },
  {
   "cell_type": "code",
   "execution_count": 8,
   "id": "5185b0d1",
   "metadata": {},
   "outputs": [
    {
     "data": {
      "application/vnd.jupyter.widget-view+json": {
       "model_id": "7a2b7c93f7914a609465b25f8a67169f",
       "version_major": 2,
       "version_minor": 0
      },
      "text/plain": [
       "VBox()"
      ]
     },
     "metadata": {},
     "output_type": "display_data"
    },
    {
     "data": {
      "application/vnd.jupyter.widget-view+json": {
       "model_id": "",
       "version_major": 2,
       "version_minor": 0
      },
      "text/plain": [
       "FloatProgress(value=0.0, bar_style='info', description='Progress:', layout=Layout(height='25px', width='50%'),…"
      ]
     },
     "metadata": {},
     "output_type": "display_data"
    },
    {
     "name": "stdout",
     "output_type": "stream",
     "text": [
      "res8: org.apache.spark.sql.DataFrame = []\n"
     ]
    }
   ],
   "source": [
    "spark.sql(\"\"\"CREATE TABLE df_sparksql24 (id bigint,\n",
    "                                       -- month bigint,\n",
    "                                       sk bigint,\n",
    "                                       txt struct<key1:string>,\n",
    "                                       uuid string,\n",
    "                                       year string,\n",
    "                                       modified_timestamp timestamp)\n",
    "PARTITIONED BY (z string,schema_v string,data_v string,trade_dt string)\n",
    "STORED AS PARQUET\n",
    "location  's3://vasveena-test-demo/iceberg/catalog/tables/db/df_sparksql24'\"\"\")"
   ]
  },
  {
   "cell_type": "code",
   "execution_count": 24,
   "id": "036be81a",
   "metadata": {},
   "outputs": [
    {
     "data": {
      "application/vnd.jupyter.widget-view+json": {
       "model_id": "d991eba34fae407ab7094fabd1e6a9e6",
       "version_major": 2,
       "version_minor": 0
      },
      "text/plain": [
       "VBox()"
      ]
     },
     "metadata": {},
     "output_type": "display_data"
    },
    {
     "data": {
      "application/vnd.jupyter.widget-view+json": {
       "model_id": "",
       "version_major": 2,
       "version_minor": 0
      },
      "text/plain": [
       "FloatProgress(value=0.0, bar_style='info', description='Progress:', layout=Layout(height='25px', width='50%'),…"
      ]
     },
     "metadata": {},
     "output_type": "display_data"
    },
    {
     "name": "stdout",
     "output_type": "stream",
     "text": [
      "res41: org.apache.spark.sql.DataFrame = [key: string, value: string]\n",
      "res43: org.apache.spark.sql.DataFrame = [key: string, value: string]\n",
      "t1: Long = 290952087691310\n",
      "duration: String = 232.564885904seconds\n"
     ]
    }
   ],
   "source": [
    "spark.sql(\"set spark.sql.parquet.binaryAsString=true\")\n",
    "//spark.sql(\"set spark.sql.hive.convertMetastoreParquet=false\")\n",
    "spark.sql(\"set hive.exec.dynamic.partition.mode=nonstrict\")\n",
    "val t1 = System.nanoTime\n",
    "(input_df4.filter(input_df4(\"trade_dt\") === \"2021-04-02\" \n",
    "                 && input_df4(\"data_v\") === \"v2\" && input_df4(\"schema_v\") === \"v1\" \n",
    "                 && input_df4(\"z\") === \"0\")\n",
    "         .repartition(col(\"modified_timestamp\"),col(\"month\")).drop(col(\"month\"))\n",
    "         .sortWithinPartitions(\"z\",\"schema_v\",\"data_v\",\"trade_dt\").write.mode(\"overwrite\")\n",
    "         .insertInto(\"df_sparksql22\"))\n",
    "val duration = (System.nanoTime - t1) / 1e9d + \"seconds\""
   ]
  },
  {
   "cell_type": "code",
   "execution_count": 9,
   "id": "d12a4c04",
   "metadata": {},
   "outputs": [
    {
     "data": {
      "application/vnd.jupyter.widget-view+json": {
       "model_id": "e322feb99dd9448d8fcc0651a6d4ff36",
       "version_major": 2,
       "version_minor": 0
      },
      "text/plain": [
       "VBox()"
      ]
     },
     "metadata": {},
     "output_type": "display_data"
    },
    {
     "data": {
      "application/vnd.jupyter.widget-view+json": {
       "model_id": "",
       "version_major": 2,
       "version_minor": 0
      },
      "text/plain": [
       "FloatProgress(value=0.0, bar_style='info', description='Progress:', layout=Layout(height='25px', width='50%'),…"
      ]
     },
     "metadata": {},
     "output_type": "display_data"
    },
    {
     "name": "stdout",
     "output_type": "stream",
     "text": [
      "res19: org.apache.spark.sql.DataFrame = [key: string, value: string]\n",
      "res21: org.apache.spark.sql.DataFrame = [key: string, value: string]\n",
      "t1: Long = 298681043645470\n",
      "duration: String = 729.008731402seconds\n"
     ]
    }
   ],
   "source": [
    "// Try repartition with partition field for better locality\n",
    "\n",
    "//spark.sql(\"set spark.sql.parquet.binaryAsString=true\")\n",
    "//spark.sql(\"set spark.sql.hive.convertMetastoreParquet=false\")\n",
    "spark.sql(\"set hive.exec.dynamic.partition.mode=nonstrict\")\n",
    "val t1 = System.nanoTime\n",
    "(input_df4.filter(input_df4(\"trade_dt\") === \"2021-04-02\" \n",
    "                 && input_df4(\"data_v\") === \"v2\" && input_df4(\"schema_v\") === \"v1\" \n",
    "                 && input_df4(\"z\") === \"0\")\n",
    "         .repartition(400, col(\"z\"),col(\"schema_v\"),col(\"data_v\"),col(\"trade_dt\")).drop(col(\"month\"))\n",
    "         .sortWithinPartitions(\"z\",\"schema_v\",\"data_v\",\"trade_dt\").write.mode(\"overwrite\")\n",
    "         .insertInto(\"df_sparksql22\"))\n",
    "val duration = (System.nanoTime - t1) / 1e9d + \"seconds\""
   ]
  },
  {
   "cell_type": "code",
   "execution_count": 8,
   "id": "0c7692ff",
   "metadata": {},
   "outputs": [
    {
     "data": {
      "application/vnd.jupyter.widget-view+json": {
       "model_id": "4d3d97f686554097a1bdd783db358f6f",
       "version_major": 2,
       "version_minor": 0
      },
      "text/plain": [
       "VBox()"
      ]
     },
     "metadata": {},
     "output_type": "display_data"
    },
    {
     "data": {
      "application/vnd.jupyter.widget-view+json": {
       "model_id": "",
       "version_major": 2,
       "version_minor": 0
      },
      "text/plain": [
       "FloatProgress(value=0.0, bar_style='info', description='Progress:', layout=Layout(height='25px', width='50%'),…"
      ]
     },
     "metadata": {},
     "output_type": "display_data"
    },
    {
     "name": "stdout",
     "output_type": "stream",
     "text": [
      "res13: org.apache.spark.sql.DataFrame = [key: string, value: string]\n",
      "res15: org.apache.spark.sql.DataFrame = [key: string, value: string]\n",
      "t1: Long = 297723408524214\n",
      "duration: String = 214.045636688seconds\n"
     ]
    }
   ],
   "source": [
    "spark.sql(\"set spark.sql.parquet.binaryAsString=true\")\n",
    "//spark.sql(\"set spark.sql.hive.convertMetastoreParquet=false\")\n",
    "spark.sql(\"set hive.exec.dynamic.partition.mode=nonstrict\")\n",
    "val t1 = System.nanoTime\n",
    "(input_df4.filter(input_df4(\"trade_dt\") === \"2021-04-02\" \n",
    "                 && input_df4(\"data_v\") === \"v2\" && input_df4(\"schema_v\") === \"v1\" \n",
    "                 && input_df4(\"z\") === \"0\")\n",
    "     .drop(col(\"month\"))\n",
    "     .sortWithinPartitions(\"z\",\"schema_v\",\"data_v\",\"trade_dt\")\n",
    "     .write.mode(\"overwrite\").insertInto(\"df_sparksql24\"))\n",
    "val duration = (System.nanoTime - t1) / 1e9d + \"seconds\""
   ]
  },
  {
   "cell_type": "code",
   "execution_count": null,
   "id": "ca5f6229",
   "metadata": {},
   "outputs": [],
   "source": [
    "// Try repartition with partition field for better locality\n",
    "\n",
    "spark.sql(\"set spark.sql.parquet.binaryAsString=true\")\n",
    "//spark.sql(\"set spark.sql.hive.convertMetastoreParquet=false\")\n",
    "spark.sql(\"set hive.exec.dynamic.partition.mode=nonstrict\")\n",
    "val t1 = System.nanoTime\n",
    "(input_df4.filter(input_df4(\"trade_dt\") === \"2021-04-02\" \n",
    "                 && input_df4(\"data_v\") === \"v2\" && input_df4(\"schema_v\") === \"v1\" \n",
    "                 && input_df4(\"z\") === \"0\")\n",
    "     .drop(col(\"month\"))\n",
    "     .sortWithinPartitions(\"z\",\"schema_v\",\"data_v\",\"trade_dt\")\n",
    "     .write.mode(\"overwrite\").insertInto(\"df_sparksql24\"))\n",
    "val duration = (System.nanoTime - t1) / 1e9d + \"seconds\""
   ]
  },
  {
   "cell_type": "code",
   "execution_count": 9,
   "id": "ba8a22d7",
   "metadata": {},
   "outputs": [
    {
     "data": {
      "application/vnd.jupyter.widget-view+json": {
       "model_id": "b5574e44d623462dbbe46b556d5265ec",
       "version_major": 2,
       "version_minor": 0
      },
      "text/plain": [
       "VBox()"
      ]
     },
     "metadata": {},
     "output_type": "display_data"
    },
    {
     "data": {
      "application/vnd.jupyter.widget-view+json": {
       "model_id": "",
       "version_major": 2,
       "version_minor": 0
      },
      "text/plain": [
       "FloatProgress(value=0.0, bar_style='info', description='Progress:', layout=Layout(height='25px', width='50%'),…"
      ]
     },
     "metadata": {},
     "output_type": "display_data"
    },
    {
     "name": "stdout",
     "output_type": "stream",
     "text": [
      "res10: org.apache.spark.sql.DataFrame = []\n"
     ]
    }
   ],
   "source": [
    "spark.sql(\"\"\"CREATE TABLE df_sparksql42 (id bigint,\n",
    "                                       -- month bigint,\n",
    "                                       sk bigint,\n",
    "                                       txt struct<key1:string>,\n",
    "                                       uuid string,\n",
    "                                       year string,\n",
    "                                       modified_timestamp timestamp)\n",
    "PARTITIONED BY (z string,schema_v string,data_v string,trade_dt string)\n",
    "ROW FORMAT DELIMITED FIELDS TERMINATED BY ','\n",
    "location  's3://vasveena-test-demo/iceberg/catalog/tables/db/df_sparksql42'\"\"\")"
   ]
  },
  {
   "cell_type": "code",
   "execution_count": 7,
   "id": "38a59f07",
   "metadata": {},
   "outputs": [
    {
     "data": {
      "application/vnd.jupyter.widget-view+json": {
       "model_id": "13dfb799191a4b86b45a23e5e7dd182b",
       "version_major": 2,
       "version_minor": 0
      },
      "text/plain": [
       "VBox()"
      ]
     },
     "metadata": {},
     "output_type": "display_data"
    },
    {
     "data": {
      "application/vnd.jupyter.widget-view+json": {
       "model_id": "",
       "version_major": 2,
       "version_minor": 0
      },
      "text/plain": [
       "FloatProgress(value=0.0, bar_style='info', description='Progress:', layout=Layout(height='25px', width='50%'),…"
      ]
     },
     "metadata": {},
     "output_type": "display_data"
    },
    {
     "name": "stdout",
     "output_type": "stream",
     "text": [
      "res7: org.apache.spark.sql.DataFrame = []\n"
     ]
    }
   ],
   "source": [
    "spark.sql(\"\"\"CREATE TABLE df_sparksql44 (id bigint,\n",
    "                                       -- month bigint,\n",
    "                                       sk bigint,\n",
    "                                       txt struct<key1:string>,\n",
    "                                       uuid string,\n",
    "                                       year string,\n",
    "                                       modified_timestamp timestamp)\n",
    "PARTITIONED BY (z string,schema_v string,data_v string,trade_dt string)\n",
    "ROW FORMAT DELIMITED FIELDS TERMINATED BY ','\n",
    "location  's3://vasveena-test-demo/iceberg/catalog/tables/db/df_sparksql44'\"\"\")"
   ]
  },
  {
   "cell_type": "code",
   "execution_count": 10,
   "id": "3ce16202",
   "metadata": {},
   "outputs": [
    {
     "data": {
      "application/vnd.jupyter.widget-view+json": {
       "model_id": "35dc440790344c8a9c5754e51a7be4d9",
       "version_major": 2,
       "version_minor": 0
      },
      "text/plain": [
       "VBox()"
      ]
     },
     "metadata": {},
     "output_type": "display_data"
    },
    {
     "data": {
      "application/vnd.jupyter.widget-view+json": {
       "model_id": "",
       "version_major": 2,
       "version_minor": 0
      },
      "text/plain": [
       "FloatProgress(value=0.0, bar_style='info', description='Progress:', layout=Layout(height='25px', width='50%'),…"
      ]
     },
     "metadata": {},
     "output_type": "display_data"
    },
    {
     "name": "stdout",
     "output_type": "stream",
     "text": [
      "res11: org.apache.spark.sql.DataFrame = [key: string, value: string]\n",
      "t1: Long = 283163222077723\n",
      "duration: String = 1206.956524709seconds\n"
     ]
    }
   ],
   "source": [
    "spark.sql(\"set hive.exec.dynamic.partition.mode=nonstrict\")\n",
    "val t1 = System.nanoTime\n",
    "input_df4.repartition(col(\"modified_timestamp\"),col(\"month\")).drop(col(\"month\")).sortWithinPartitions(\"z\",\"schema_v\",\"data_v\",\"trade_dt\").write.mode(\"overwrite\").insertInto(\"df_sparksql42\")\n",
    "val duration = (System.nanoTime - t1) / 1e9d + \"seconds\""
   ]
  },
  {
   "cell_type": "code",
   "execution_count": 13,
   "id": "e040b8ad",
   "metadata": {},
   "outputs": [
    {
     "data": {
      "application/vnd.jupyter.widget-view+json": {
       "model_id": "3cd81f64e14244b19d5cfcc8a494e273",
       "version_major": 2,
       "version_minor": 0
      },
      "text/plain": [
       "VBox()"
      ]
     },
     "metadata": {},
     "output_type": "display_data"
    },
    {
     "data": {
      "application/vnd.jupyter.widget-view+json": {
       "model_id": "",
       "version_major": 2,
       "version_minor": 0
      },
      "text/plain": [
       "FloatProgress(value=0.0, bar_style='info', description='Progress:', layout=Layout(height='25px', width='50%'),…"
      ]
     },
     "metadata": {},
     "output_type": "display_data"
    },
    {
     "name": "stdout",
     "output_type": "stream",
     "text": [
      "t1: Long = 285813385453468\n",
      "duration: String = 753.236217927seconds\n"
     ]
    }
   ],
   "source": [
    "val t1 = System.nanoTime\n",
    "input_df4.drop(col(\"month\")).sortWithinPartitions(\"z\",\"schema_v\",\"data_v\",\"trade_dt\").write.mode(\"overwrite\").insertInto(\"df_sparksql44\")\n",
    "val duration = (System.nanoTime - t1) / 1e9d + \"seconds\""
   ]
  },
  {
   "cell_type": "code",
   "execution_count": 16,
   "id": "963de5b8",
   "metadata": {},
   "outputs": [
    {
     "data": {
      "application/vnd.jupyter.widget-view+json": {
       "model_id": "0e7bd9e7b7874c5581d9d31bdc97b635",
       "version_major": 2,
       "version_minor": 0
      },
      "text/plain": [
       "VBox()"
      ]
     },
     "metadata": {},
     "output_type": "display_data"
    },
    {
     "data": {
      "application/vnd.jupyter.widget-view+json": {
       "model_id": "",
       "version_major": 2,
       "version_minor": 0
      },
      "text/plain": [
       "FloatProgress(value=0.0, bar_style='info', description='Progress:', layout=Layout(height='25px', width='50%'),…"
      ]
     },
     "metadata": {},
     "output_type": "display_data"
    },
    {
     "name": "stdout",
     "output_type": "stream",
     "text": [
      "res20: org.apache.spark.sql.DataFrame = [key: string, value: string]\n",
      "t1: Long = 287758440216721\n",
      "duration: String = 670.769490376seconds\n"
     ]
    }
   ],
   "source": [
    "spark.sql(\"set hive.exec.dynamic.partition.mode=nonstrict\")\n",
    "val t1 = System.nanoTime\n",
    "input_df4.repartition(col(\"modified_timestamp\"),col(\"month\")).drop(col(\"month\")).sortWithinPartitions(\"z\",\"schema_v\",\"data_v\",\"trade_dt\").write.mode(\"overwrite\").parquet(\"s3://vasveena-test-demo/iceberg/catalog/tables/db/df_sparksql46\")\n",
    "val duration = (System.nanoTime - t1) / 1e9d + \"seconds\""
   ]
  },
  {
   "cell_type": "code",
   "execution_count": 17,
   "id": "bfd0911f",
   "metadata": {},
   "outputs": [
    {
     "data": {
      "application/vnd.jupyter.widget-view+json": {
       "model_id": "09230041274f440bba8e78db120f38e0",
       "version_major": 2,
       "version_minor": 0
      },
      "text/plain": [
       "VBox()"
      ]
     },
     "metadata": {},
     "output_type": "display_data"
    },
    {
     "data": {
      "application/vnd.jupyter.widget-view+json": {
       "model_id": "",
       "version_major": 2,
       "version_minor": 0
      },
      "text/plain": [
       "FloatProgress(value=0.0, bar_style='info', description='Progress:', layout=Layout(height='25px', width='50%'),…"
      ]
     },
     "metadata": {},
     "output_type": "display_data"
    },
    {
     "name": "stdout",
     "output_type": "stream",
     "text": [
      "res22: org.apache.spark.sql.DataFrame = [key: string, value: string]\n",
      "t1: Long = 288429606857936\n",
      "duration: String = 346.258263351seconds\n"
     ]
    }
   ],
   "source": [
    "spark.sql(\"set hive.exec.dynamic.partition.mode=nonstrict\")\n",
    "val t1 = System.nanoTime\n",
    "input_df4.drop(col(\"month\")).sortWithinPartitions(\"z\",\"schema_v\",\"data_v\",\"trade_dt\").write.mode(\"overwrite\").parquet(\"s3://vasveena-test-demo/iceberg/catalog/tables/db/df_sparksql48\")\n",
    "val duration = (System.nanoTime - t1) / 1e9d + \"seconds\""
   ]
  },
  {
   "cell_type": "code",
   "execution_count": null,
   "id": "ccf6308b",
   "metadata": {},
   "outputs": [],
   "source": []
  },
  {
   "cell_type": "code",
   "execution_count": null,
   "id": "502b1b56",
   "metadata": {},
   "outputs": [],
   "source": []
  }
 ],
 "metadata": {
  "kernelspec": {
   "display_name": "Spark",
   "language": "",
   "name": "sparkkernel"
  },
  "language_info": {
   "codemirror_mode": "text/x-scala",
   "mimetype": "text/x-scala",
   "name": "scala",
   "pygments_lexer": "scala"
  }
 },
 "nbformat": 4,
 "nbformat_minor": 5
}
